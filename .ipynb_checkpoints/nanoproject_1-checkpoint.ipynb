{
 "cells": [
  {
   "cell_type": "markdown",
   "metadata": {},
   "source": [
    "# Analyzing the NYC Subway Dataset"
   ]
  },
  {
   "cell_type": "markdown",
   "metadata": {},
   "source": [
    "## by Rica Enriquez, June 1, 2015"
   ]
  },
  {
   "cell_type": "markdown",
   "metadata": {},
   "source": [
    "<p>In this project, the NYC Subway data is analyzed to figure out if more people ride the subway when it is raining versus when it is not raining. The improved-dataset is used for the analysis.</p>"
   ]
  },
  {
   "cell_type": "code",
   "execution_count": 1,
   "metadata": {
    "collapsed": true
   },
   "outputs": [],
   "source": [
    "import scipy.stats\n",
    "import pandas as pd\n",
    "from sklearn import linear_model\n",
    "import matplotlib.pyplot as plt\n",
    "import seaborn as sns\n",
    "sns.set(style=\"whitegrid\")\n",
    "\n",
    "input_filename = \"improved-dataset/turnstile_weather_v2.csv\"\n",
    "turnstile_weather = pd.read_csv(input_filename)\n",
    "\n",
    "#All hourly entries\n",
    "hourly_entries = turnstile_weather[['ENTRIESn_hourly']]\n",
    "\n",
    "# Get hourly entry samples from dataframe\n",
    "rainy = turnstile_weather[turnstile_weather.rain == 1].ENTRIESn_hourly\n",
    "dry = turnstile_weather[turnstile_weather.rain == 0].ENTRIESn_hourly"
   ]
  },
  {
   "cell_type": "markdown",
   "metadata": {},
   "source": [
    "## Section 0.\tReferences"
   ]
  },
  {
   "cell_type": "markdown",
   "metadata": {},
   "source": [
    "<p>http://docs.scipy.org/doc/scipy-0.15.1/reference/generated/scipy.stats.mannwhitneyu.html</p>\n",
    "<p>https://statistics.laerd.com/spss-tutorials/mann-whitney-u-test-using-spss-statistics.php</p>\n",
    "<p>http://statsmodels.sourceforge.net/devel/generated/statsmodels.regression.linear_model.OLS.html</p>"
   ]
  },
  {
   "cell_type": "markdown",
   "metadata": {},
   "source": [
    "## Section 1.\tStatistical Test"
   ]
  },
  {
   "cell_type": "markdown",
   "metadata": {},
   "source": [
    "### 1.1. Which statistical test did you use to analyze the NYC subway data? Did you use a one-tail or a two-tail P value? What is the null hypothesis? What is your p-critical value?"
   ]
  },
  {
   "cell_type": "markdown",
   "metadata": {},
   "source": [
    "<p>The Mann–Whitney U test is used to analyze the NYC subway data since it is a nonparametric test. With this test the underlying distribution is not assumed. The two inputs are 'ENTRIESn_hourly' for 1) rainy days and 2) dry days.</p>\n",
    "\n",
    "<p>The null hypothesis for this test states that the sample data from rainy days and dry days come from the same population. In other words, data for rainy days should not result in a statistically different mean from the sample data for dry days.</p>\n",
    "    \n",
    "<p>A two-tail P value, which is twice the output of the scipy.stats.mannwhitneyu implementation, is used. A two-tail P value is appropriate since the null hypothesis does not assume if a sample has a higher or lower mean hourly entry than the other sample.</p>\n",
    "\n",
    "<p>A critical P value of 0.05 is used.</p>"
   ]
  },
  {
   "cell_type": "code",
   "execution_count": 2,
   "metadata": {
    "collapsed": true
   },
   "outputs": [],
   "source": [
    "# Run Mann-Whitney U Test\n",
    "U,p = scipy.stats.mannwhitneyu(rainy,dry)\n",
    "\n",
    "#Set critical P value\n",
    "p_critical = 0.05"
   ]
  },
  {
   "cell_type": "markdown",
   "metadata": {},
   "source": [
    "### 1.2. Why is this statistical test applicable to the dataset? In particular, consider the assumptions that the test is making about the distribution of ridership in the two samples."
   ]
  },
  {
   "cell_type": "markdown",
   "metadata": {},
   "source": [
    "<p>A histogram of the NYC subway ridership (Figure 1 in Section 3) helps show the distribution of the two samples. Both samples show positive skewed distributions. Thus, a nonparametric test that does not assume normal distributions for the samples, e.g., the Mann-Whitney U test, is appropriate. To apply this test, the samples need to fulfill the following assumptions:\n",
    "<ul>\n",
    "<li>Assumption 1: The dependent variable should be ordinal or continuous. The variable 'ENTRIESn_hourly' is continuous.</li>\n",
    "<li>Assumption 2: The independent variable should consist of two categorical, independent groups. The independent groups are days with rain and days without rain.</li>\n",
    "<li>Assumption 3: The observations should be independent, which means that there is no relationship between the observations in each group or between the groups themselves. Each observation in the dataset is independent since they are entries/hour at a specific unit at a given hour.</li>\n",
    "<li>Assumption 4: The two distributions for both groups of the independent variable should have similar shapes. Figure 1 in Section 3 shows that the distributions are similar in shape.</li>\n",
    "</ul></p>"
   ]
  },
  {
   "cell_type": "markdown",
   "metadata": {},
   "source": [
    "### 1.3. What results did you get from this statistical test? These should include the following numerical values: p-values, as well as the means for each of the two samples under test."
   ]
  },
  {
   "cell_type": "code",
   "execution_count": 3,
   "metadata": {
    "collapsed": false
   },
   "outputs": [
    {
     "name": "stdout",
     "output_type": "stream",
     "text": [
      "The P value is less than the critical P value. Therefore, we reject the null hypothesis. The samples from rainy days and dry days are statistically different and are likely to come from different populations.\n",
      "The mean hourly entry on rainy days is 2028.19603547\n",
      "The mean hourly entry on dry days is 1845.53943866\n",
      "The difference in average hourly entries is 182.656596808 (rainy - dry), which is 9.89719281967 % more than the people who ride it on dry days.\n",
      "The U statistic is 153635120.5\n",
      "The two-tailed P value from the Mann Whitney test is 2.74106957124e-06\n"
     ]
    }
   ],
   "source": [
    "# The Mann-Whitney U Test produces a one-tail P value\n",
    "# Multiply it by 2.0 to get the two-tail P value and compare to the critical P value\n",
    "if p*2. < p_critical:\n",
    "    print 'The P value is less than the critical P value. Therefore, we reject the null', \\\n",
    "          'hypothesis. The samples from rainy days and dry days are statistically different', \\\n",
    "          'and are likely to come from different populations.'\n",
    "else:\n",
    "    print 'The P value is more than or equal to the critical P value. Therefore, we accept', \\\n",
    "          'the null hypothesis. The samples from rainy days and dry days are statistically', \\\n",
    "          'similar and are likely to come from the same population.'\n",
    "        \n",
    "print 'The mean hourly entry on rainy days is', rainy.mean()\n",
    "print 'The mean hourly entry on dry days is', dry.mean()\n",
    "print 'The difference in average hourly entries is', rainy.mean() - dry.mean(), '(rainy - dry), which is', \\\n",
    "    ((rainy.mean() - dry.mean())/dry.mean())*100, '% more than the people who ride it on dry days.'\n",
    "print 'The U statistic is', U\n",
    "print 'The two-tailed P value from the Mann Whitney test is', p"
   ]
  },
  {
   "cell_type": "markdown",
   "metadata": {},
   "source": [
    "### 1.4. What is the significance and interpretation of these results?"
   ]
  },
  {
   "cell_type": "markdown",
   "metadata": {},
   "source": [
    "<p>The results show that the mean ridership from the two samples are statistically different. On average, there are more entries/hour on rainy days. Using the critical P value of 0.05, the null hypothesis is rejected and it is accepted that the samples on rainy and dry days are likely to come from different populations. Thus, rain may increase ridership.</p>"
   ]
  },
  {
   "cell_type": "markdown",
   "metadata": {},
   "source": [
    "## Section 2. Linear Regression"
   ]
  },
  {
   "cell_type": "markdown",
   "metadata": {},
   "source": [
    "### 2.1. What approach did you use to compute the coefficients theta and produce prediction for ENTRIESn_hourly in your regression model?"
   ]
  },
  {
   "cell_type": "markdown",
   "metadata": {},
   "source": [
    "<p>The OLS procedure from Scikit Learn is used.</p>"
   ]
  },
  {
   "cell_type": "code",
   "execution_count": 4,
   "metadata": {
    "collapsed": true
   },
   "outputs": [],
   "source": [
    "# Initialize the linear model and normalize the features\n",
    "clf = linear_model.LinearRegression(normalize=True)"
   ]
  },
  {
   "cell_type": "markdown",
   "metadata": {},
   "source": [
    "### 2.2. What features (input variables) did you use in your model? Did you use any dummy variables as part of your features?"
   ]
  },
  {
   "cell_type": "markdown",
   "metadata": {},
   "source": [
    "<p>To select features for the model, all of the numerical data is first used to get a base model score (R^2). Features are then systematically romved in order to understand each feature's affect on the model score. A feature is kept if there is at least a difference of 0.001 in the model's score. The 'rain' feature is added after this procedure.</p>"
   ]
  },
  {
   "cell_type": "code",
   "execution_count": 5,
   "metadata": {
    "collapsed": false
   },
   "outputs": [
    {
     "name": "stdout",
     "output_type": "stream",
     "text": [
      "From this analysis, the following features are selected:\n",
      "EXITSn_hourly\n",
      "hour\n",
      "weekday\n",
      "latitude\n",
      "longitude\n"
     ]
    }
   ],
   "source": [
    "# First use all features, no dummy variables are added\n",
    "all_features = ['EXITSn_hourly', 'hour', 'day_week', 'weekday', 'latitude', 'longitude', \\\n",
    "                'fog', 'precipi', 'pressurei', 'rain', 'tempi', 'wspdi', 'meanprecipi', \\\n",
    "                'meanpressurei', 'meantempi', 'meanwspdi']\n",
    "all_featuresdf = turnstile_weather[all_features]\n",
    "\n",
    "# Fit linear model to all features to get a base score\n",
    "model = clf.fit(all_featuresdf, hourly_entries)\n",
    "base_score = clf.score(all_featuresdf, hourly_entries)\n",
    "\n",
    "# Find the features that produces a difference of at least 0.001 from the base score\n",
    "picked_features = []\n",
    "for feature in all_features:\n",
    "        features_test = all_featuresdf.drop(feature, axis=1)\n",
    "        clf = linear_model.LinearRegression(normalize=True)\n",
    "        clf.fit(features_test, hourly_entries)\n",
    "        score = clf.score(features_test, hourly_entries)\n",
    "        if (base_score - score) > 0.001:\n",
    "            picked_features.append(feature)\n",
    "print 'From this analysis, the following features are selected:'            \n",
    "for feature in picked_features:\n",
    "    print feature\n",
    "\n",
    "picked_features_norain = picked_features\n",
    "\n",
    "# Include 'rain' feature\n",
    "picked_features.append('rain')            "
   ]
  },
  {
   "cell_type": "markdown",
   "metadata": {},
   "source": [
    "### 2.3. Why did you select these features in your model?"
   ]
  },
  {
   "cell_type": "markdown",
   "metadata": {},
   "source": [
    "<p>The features selected were solely based on the data exploration and analysis done above. It appears that the feature 'rain' does not greatly affect the overall score of the model. However it is included since the objective of this analysis is to determine if there is a difference in ridership on rainy days compared to dry days. Including the 'rain' feature in the model makes the average residual on rainy days and dry days very small, compared to the model in which 'rain' was not included.</p>"
   ]
  },
  {
   "cell_type": "markdown",
   "metadata": {},
   "source": [
    "### 2.4. What are the coefficients (or weights) of the non-dummy features in your linear regression model?"
   ]
  },
  {
   "cell_type": "code",
   "execution_count": 6,
   "metadata": {
    "collapsed": false
   },
   "outputs": [
    {
     "name": "stdout",
     "output_type": "stream",
     "text": [
      "The coefficient for EXITSn_hourly is 0.786582873883\n",
      "The coefficient for hour is 59.6721441885\n",
      "The coefficient for weekday is 476.429450947\n",
      "The coefficient for latitude is 2880.51237714\n",
      "The coefficient for longitude is -2720.09186834\n",
      "The coefficient for rain is 14.6955045823\n"
     ]
    }
   ],
   "source": [
    "# Fit model with picked features (no rain) and get R^2\n",
    "picked_features_noraindf = turnstile_weather[picked_features_norain]\n",
    "clf = linear_model.LinearRegression(normalize=True)\n",
    "clf.fit(picked_features_noraindf, hourly_entries)\n",
    "score_norain = clf.score(picked_features_noraindf, hourly_entries)\n",
    "\n",
    "# Fit model with picked features with rain\n",
    "picked_featuresdf = turnstile_weather[picked_features]\n",
    "clf = linear_model.LinearRegression(normalize=True)\n",
    "clf.fit(picked_featuresdf, hourly_entries)\n",
    "\n",
    "# Print out the coefficients of the model with rain\n",
    "coefficients = clf.coef_[0]\n",
    "for i in range(0, len(picked_features)):\n",
    "    print 'The coefficient for', picked_features[i], 'is', coefficients[i]"
   ]
  },
  {
   "cell_type": "markdown",
   "metadata": {},
   "source": [
    "### 2.5. What is your model’s R2 (coefficients of determination) value?"
   ]
  },
  {
   "cell_type": "code",
   "execution_count": 7,
   "metadata": {
    "collapsed": false
   },
   "outputs": [
    {
     "name": "stdout",
     "output_type": "stream",
     "text": [
      "The R^2 of the linear regression without rain is 0.438308252736\n",
      "The R^2 of the linear regression with rain is 0.438308252736\n"
     ]
    }
   ],
   "source": [
    "score_rain = clf.score(picked_featuresdf, hourly_entries)\n",
    "print 'The R^2 of the linear regression without rain is', score_norain\n",
    "print 'The R^2 of the linear regression with rain is', score_rain"
   ]
  },
  {
   "cell_type": "markdown",
   "metadata": {},
   "source": [
    "### 2.6. What does this R2 value mean for the goodness of fit for your regression model? Do you think this linear model to predict ridership is appropriate for this dataset, given this R2  value?"
   ]
  },
  {
   "cell_type": "markdown",
   "metadata": {},
   "source": [
    "<p>The R^2 value of 0.438 means that the 43.8% of the variation in hourly entries can be explained by the variation of the selected features. The addition of the 'rain' feature did not notably change the R^2 value. Given that there are many conditions that can affect ridership that are not in this dataset, the model does okay in predicting the entries/hour and this R^2 value is appropriate. Figure 3 in the next section highlights that the model overpredicts entries with lower entries/hour and underpredicts entries with high entries/hour. Thus, the model can further be improved.</p>"
   ]
  },
  {
   "cell_type": "markdown",
   "metadata": {},
   "source": [
    "## Section 3. Visualization"
   ]
  },
  {
   "cell_type": "markdown",
   "metadata": {},
   "source": [
    "<p> Please note that the seaborn package is used instead of the ggplot package presented in class. Currently, the ggplot package only allows for stacked barplots.</p>\n",
    "<p>Before performing any analysis, it is useful to take a look at distribution of the 'ENTRIESn_hourly' data. The two histograms below (Figure 1) show hourly entries on rainy and dry days.</p>"
   ]
  },
  {
   "cell_type": "code",
   "execution_count": 8,
   "metadata": {
    "collapsed": false
   },
   "outputs": [
    {
     "data": {
      "image/png": "[encoded data removed]",
      "text/plain": [
       "<matplotlib.figure.Figure at 0x1099416d0>"
      ]
     },
     "metadata": {},
     "output_type": "display_data"
    }
   ],
   "source": [
    "%matplotlib inline\n",
    "nbins = 50\n",
    "binrange = (0,10000)\n",
    "plt.figure()\n",
    "dry.hist(bins=nbins, range=binrange, label='Dry',color='steelblue')\n",
    "rainy.hist(bins=nbins, range=binrange, label='Rainy',color='seagreen')\n",
    "plt.legend()\n",
    "plt.xlabel('Hourly Entries')\n",
    "plt.ylabel('Frequency')\n",
    "plt.show()"
   ]
  },
  {
   "cell_type": "markdown",
   "metadata": {},
   "source": [
    "### Figure 1. Histogram of Hourly Entries on Days With Rain and Without Rain"
   ]
  },
  {
   "cell_type": "markdown",
   "metadata": {},
   "source": [
    "<p>Figure 2 below shows the average NYC Subway ridership by day of week and rain conditions.</p>"
   ]
  },
  {
   "cell_type": "code",
   "execution_count": 9,
   "metadata": {
    "collapsed": false
   },
   "outputs": [
    {
     "name": "stdout",
     "output_type": "stream",
     "text": [
      "On average there are 44.6792623754 more entries/hour on rainy days than dry days on a given day of the week.\n"
     ]
    },
    {
     "data": {
      "image/png": "[encoded data removed]",
      "text/plain": [
       "<matplotlib.figure.Figure at 0x109cc9a50>"
      ]
     },
     "metadata": {},
     "output_type": "display_data"
    }
   ],
   "source": [
    "# Make the days of the week and rain conditions 'pretty' words\n",
    "days = ['Monday', 'Tuesday', 'Wednesday', 'Thursday','Friday', 'Saturday', 'Sunday']\n",
    "turnstile_weather['day_week_str'] = turnstile_weather['day_week']\\\n",
    "    .apply(lambda entry: (days[entry]))\n",
    "\n",
    "rain_cond = ['Dry', 'Rainy']\n",
    "turnstile_weather['Rain Conditions'] = turnstile_weather['rain']\\\n",
    "    .apply(lambda entry: (rain_cond[entry]))\n",
    "\n",
    "    \n",
    "# Group data by day of the week and rainy or dry conditions\n",
    "entriesByDay = turnstile_weather[['day_week_str', 'ENTRIESn_hourly','Rain Conditions']]. \\\n",
    "    groupby(['day_week_str','Rain Conditions'], as_index=False).mean()\n",
    "\n",
    "# Find the average difference in entries/hour for a given day of the week\n",
    "dry2 = entriesByDay[entriesByDay['Rain Conditions']=='Dry'].ENTRIESn_hourly.mean()\n",
    "rainy2 = entriesByDay[entriesByDay['Rain Conditions']=='Rainy'].ENTRIESn_hourly.mean()\n",
    "rainy_dry_mean = rainy2 - dry2\n",
    "\n",
    "print 'On average there are', rainy_dry_mean, 'more entries/hour on rainy days than dry days', \\\n",
    "    'on a given day of the week.'\n",
    "\n",
    "plot2 = sns.factorplot('day_week_str', 'ENTRIESn_hourly','Rain Conditions', data=entriesByDay, kind=\"bar\", \\\n",
    "    x_order=days, aspect=2.5)\n",
    "plot2.set_ylabels(label='Average Hourly Entries')\n",
    "plot2.set_xlabels(label='Day Of The Week')\n",
    "plt.show()"
   ]
  },
  {
   "cell_type": "markdown",
   "metadata": {},
   "source": [
    "### Figure 2. Average Hourly Entries By Day and Rain Condition"
   ]
  },
  {
   "cell_type": "markdown",
   "metadata": {},
   "source": [
    "<p>Figure 3 below shows the entries/hour residuals from the linear model described in Section 2 plotted against the 'ENTRIESn_hourly' data.</p>"
   ]
  },
  {
   "cell_type": "code",
   "execution_count": 10,
   "metadata": {
    "collapsed": false
   },
   "outputs": [
    {
     "name": "stdout",
     "output_type": "stream",
     "text": [
      "On average, the residuals on rainy and dry days are: Rain Conditions\n",
      "Dry      3.189943e-11\n",
      "Rainy    5.616720e-11\n",
      "Name: residuals, dtype: float64\n"
     ]
    },
    {
     "data": {
      "image/png": "[encoded data removed]",
      "text/plain": [
       "<matplotlib.figure.Figure at 0x10af54dd0>"
      ]
     },
     "metadata": {},
     "output_type": "display_data"
    }
   ],
   "source": [
    "entriesRes = turnstile_weather[['ENTRIESn_hourly','Rain Conditions']]\n",
    "entriesRes.is_copy = False\n",
    "\n",
    "# Predict entries/hour using selected features and calculate the residuals\n",
    "predicted_entries = clf.predict(picked_featuresdf)\n",
    "residuals = hourly_entries - predicted_entries\n",
    "entriesRes['residuals'] = residuals\n",
    "\n",
    "# Check difference on residuals due to rain conditions\n",
    "res_group = entriesRes.groupby('Rain Conditions').residuals\n",
    "print 'On average, the residuals on rainy and dry days are:', res_group.mean()\n",
    "\n",
    "plot3 = sns.lmplot('ENTRIESn_hourly','residuals',hue='Rain Conditions', data=entriesRes, fit_reg=False,size=5)\n",
    "plot3.set_ylabels(label='Residual')\n",
    "plot3.set_xlabels(label='Total Hourly Entries')\n",
    "plt.ylim(-30000,30000)\n",
    "plt.xlim(0,35000)\n",
    "plt.show()"
   ]
  },
  {
   "cell_type": "markdown",
   "metadata": {},
   "source": [
    "###Figure 3. Hourly Entry Residuals from the Linear Model described in Section 2."
   ]
  },
  {
   "cell_type": "markdown",
   "metadata": {},
   "source": [
    "## Section 4. Conclusions"
   ]
  },
  {
   "cell_type": "markdown",
   "metadata": {},
   "source": [
    "### 4.1 From your analysis and interpretation of the data, do more people ride the NYC subway when it is raining or when it is not raining?"
   ]
  },
  {
   "cell_type": "markdown",
   "metadata": {},
   "source": [
    "<p>The interpretation of the analysis done in the previous sections is that more people ride the NYC subway when it is raining than when it is not raining.</p>"
   ]
  },
  {
   "cell_type": "markdown",
   "metadata": {},
   "source": [
    "### 4.2 What analyses lead you to this conclusion? You should use results from both your statistical tests and your linear regression to support your analysis. "
   ]
  },
  {
   "cell_type": "markdown",
   "metadata": {},
   "source": [
    "<p>The P value from Mann-Whitney U test helps conclude that rain does have an affect on NYC subway ridership. On average, there are 182.7 more entries/hour on rainy days than on dry days. Additionally, when the linear regression model did not account for the 'rain' feature, the model overpredicted dry days (negative residual) and underestimated rainy days. The model that includes the 'rain' feature has a coefficient of 14.7. So on rainy days, there are an additional 14.7 entries/hour.</p>"
   ]
  },
  {
   "cell_type": "markdown",
   "metadata": {},
   "source": [
    "## Section 5. Reflection"
   ]
  },
  {
   "cell_type": "markdown",
   "metadata": {},
   "source": [
    "### 5.1. Please discuss potential shortcomings of the methods of your analysis, including dataset, analysis, such as the linear regression model or statistical test."
   ]
  },
  {
   "cell_type": "markdown",
   "metadata": {},
   "source": [
    "<p>The linear regression analysis could have been more thorough if the data set was split into training and test sets to possibly account for more features without the worry of overfitting. Additionally, scalar variables could have been mapped to ordinal variables. Different dimensions of some variables might be more realistic.</p>\n",
    "<p>As for the dataset itself, only a cursory examination concerning outliers are not present was done. The dataset may have some further quality issues. Also, as mentioned earlier, the model tends to overpredict the lower entries/hour values and underpredict the higher entries/hour. Features other than weather are likely to be important.</p>"
   ]
  },
  {
   "cell_type": "markdown",
   "metadata": {},
   "source": [
    "    "
   ]
  }
 ],
 "metadata": {
  "celltoolbar": "Raw Cell Format",
  "kernelspec": {
   "display_name": "Python 2",
   "language": "python",
   "name": "python2"
  },
  "language_info": {
   "codemirror_mode": {
    "name": "ipython",
    "version": 2
   },
   "file_extension": ".py",
   "mimetype": "text/x-python",
   "name": "python",
   "nbconvert_exporter": "python",
   "pygments_lexer": "ipython2",
   "version": "2.7.9"
  }
 },
 "nbformat": 4,
 "nbformat_minor": 0
}
